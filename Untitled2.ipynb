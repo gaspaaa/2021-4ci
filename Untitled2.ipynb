{
  "nbformat": 4,
  "nbformat_minor": 0,
  "metadata": {
    "colab": {
      "name": "Untitled2.ipynb",
      "provenance": [],
      "authorship_tag": "ABX9TyMTn1Xiaj4XUQ8/Gm30MxEL",
      "include_colab_link": true
    },
    "kernelspec": {
      "name": "python3",
      "display_name": "Python 3"
    },
    "language_info": {
      "name": "python"
    }
  },
  "cells": [
    {
      "cell_type": "markdown",
      "metadata": {
        "id": "view-in-github",
        "colab_type": "text"
      },
      "source": [
        "<a href=\"https://colab.research.google.com/github/gaspaaa/2021-4ci/blob/main/Untitled2.ipynb\" target=\"_parent\"><img src=\"https://colab.research.google.com/assets/colab-badge.svg\" alt=\"Open In Colab\"/></a>"
      ]
    },
    {
      "cell_type": "code",
      "metadata": {
        "id": "W22cf3U9l2n2"
      },
      "source": [
        "import requests \n",
        "r = requests.get(\"https://dati.comune.milano.it/dataset/5001a31d-c9f8-414b-897e-dc0c58a5f9f0/resource/57c8f8e9-4a69-4891-bda0-ef3ede9b9890/download/ds261_economia_numero_aziende_zootecniche_numero_capi_tipo_superficie_utilizzata_2010c.json\")\n",
        "data = r.json()\n"
      ],
      "execution_count": 13,
      "outputs": []
    },
    {
      "cell_type": "code",
      "metadata": {
        "colab": {
          "base_uri": "https://localhost:8080/"
        },
        "id": "4Tn7iRyvm_0z",
        "outputId": "2ac247d6-d1c8-41ff-f2f7-e6b9c180c845"
      },
      "source": [
        "\n",
        "print(\"ClasseSuperficie Agricola Utilizzata (SAU):\" , data[0][\"ClasseSuperficie Agricola Utilizzata (SAU)\"])\n",
        "print(\"-----------------------------\")\n",
        "print(\"Numero di aziende:\" , data[0][\"Numero di aziende\"])\n",
        "print(\"-----------------------------\")\n",
        "print(\"Superficie totale:\" , data[0][\"Superficie totale\"])\n",
        "print(\"-----------------------------\")\n",
        "print(\"Superficie agricola utilizzata:\" , data[0][\"Superficie agricola utilizzata\"])\n",
        "print(\"-----------------------------\")\n",
        "print(\"Bovini - Totale:\" , data[0][\"Bovini - Totale\"])\n",
        "print(\"-----------------------------\")\n",
        "print(\"Bufalini - Totale:\"  ,data[0][\"Bufalini - Totale\"])\n",
        "print(\"-----------------------------\")\n",
        "print(\"Equini - Totale:\" , data[0][\"Equini - Totale\"])\n",
        "print(\"-----------------------------\")\n",
        "print(\"Ovini - Totale:\" , data[0][\"Ovini - Totale\"])\n",
        "print(\"-----------------------------\")\n",
        "print(\"Caprini - Totale:\" , data[0][\"Caprini - Totale\"])\n",
        "print(\"-----------------------------\")\n",
        "print(\"Suini - Totale:\" , data[0][\"Suini - Totale\"])\n",
        "print(\"-----------------------------\")\n",
        "print(\"Avicoli - Totale:\" , data[0][\"Avicoli - Totale\"])\n",
        "print(\"-----------------------------\")\n",
        "print(\"Conigli - Totale:\" , data[0][\"Conigli - Totale\"])\n",
        "print(\"-----------------------------\")\n",
        "print(\"Struzzi - Totale:\" , data[0][\"Struzzi - Totale\"])"
      ],
      "execution_count": 34,
      "outputs": [
        {
          "output_type": "stream",
          "name": "stdout",
          "text": [
            "ClasseSuperficie Agricola Utilizzata (SAU): 0 ettari\n",
            "-----------------------------\n",
            "Numero di aziende: 5\n",
            "-----------------------------\n",
            "Superficie totale: 2,55\n",
            "-----------------------------\n",
            "Superficie agricola utilizzata: 0\n",
            "-----------------------------\n",
            "Bovini - Totale: 0\n",
            "-----------------------------\n",
            "Bufalini - Totale: 0\n",
            "-----------------------------\n",
            "Equini - Totale: 59\n",
            "-----------------------------\n",
            "Ovini - Totale: 0\n",
            "-----------------------------\n",
            "Caprini - Totale: 0\n",
            "-----------------------------\n",
            "Suini - Totale: 4\n",
            "-----------------------------\n",
            "Avicoli - Totale: 779\n",
            "-----------------------------\n",
            "Conigli - Totale: 43\n",
            "-----------------------------\n",
            "Struzzi - Totale: 0\n"
          ]
        }
      ]
    }
  ]
}